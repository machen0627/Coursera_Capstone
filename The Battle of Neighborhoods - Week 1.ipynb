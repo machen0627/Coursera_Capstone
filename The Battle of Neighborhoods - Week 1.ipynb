{
 "cells": [
  {
   "cell_type": "markdown",
   "metadata": {},
   "source": [
    "   # Project - Ontario Public Sector Salary Analysis\n",
    "\n"
   ]
  },
  {
   "cell_type": "markdown",
   "metadata": {},
   "source": [
    "### Business Problem"
   ]
  },
  {
   "cell_type": "markdown",
   "metadata": {},
   "source": [
    "### Ontario is the core for business and government activities in Canada. It contains most of the public sectors in Canda. Ontario has problems with public spending especially in health care, hydro, education, adminstation, etc. So is it because we pay the emplyees too much since there are lots of complaints on unnecessary spending to the public sector employees. It is very interesting project to see how the salary distrubtion in Ontario. \n",
    "\n",
    "\n",
    "### We would like to find out the salary performance of all employees who earns over 100k in Ontario. See which sector earns the most and which employers pays the most. Who is the highest paid employees in Ontario"
   ]
  },
  {
   "cell_type": "markdown",
   "metadata": {},
   "source": [
    "### Data"
   ]
  },
  {
   "cell_type": "markdown",
   "metadata": {},
   "source": [
    "### Service Ontario has a data repository that contains salary information of all employees who earn more than 100k in Ontario in 2018. It includes sectors, employees' names, employers, job titles. It has enough information for us to answer all the business problems."
   ]
  },
  {
   "cell_type": "code",
   "execution_count": null,
   "metadata": {},
   "outputs": [],
   "source": []
  }
 ],
 "metadata": {
  "kernelspec": {
   "display_name": "Python 3",
   "language": "python",
   "name": "python3"
  },
  "language_info": {
   "codemirror_mode": {
    "name": "ipython",
    "version": 3
   },
   "file_extension": ".py",
   "mimetype": "text/x-python",
   "name": "python",
   "nbconvert_exporter": "python",
   "pygments_lexer": "ipython3",
   "version": "3.7.3"
  }
 },
 "nbformat": 4,
 "nbformat_minor": 2
}
